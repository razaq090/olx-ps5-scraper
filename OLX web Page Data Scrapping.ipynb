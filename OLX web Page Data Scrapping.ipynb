{
 "cells": [
  {
   "cell_type": "markdown",
   "id": "410af0af-2345-4615-8031-471927643653",
   "metadata": {},
   "source": [
    "# Data Scraping from and OLX page - Beginner Scraping\n",
    "## Scraping the ads-Posted on the search of \"playstation 5\"\n",
    "### Step by Step coding with details\n"
   ]
  },
  {
   "cell_type": "markdown",
   "id": "51edc074-58fc-4964-b778-e48106190a8e",
   "metadata": {},
   "source": [
    "# Importing Lobraries for the scraping ..."
   ]
  },
  {
   "cell_type": "code",
   "execution_count": 3,
   "id": "5eabc1fb-a1f4-43c0-a241-014d2e83d056",
   "metadata": {},
   "outputs": [],
   "source": [
    "import requests   # getting Url\n",
    "from bs4 import BeautifulSoup   # webscraping\n",
    "import pandas as pd # later converting my list to dataframes\n"
   ]
  },
  {
   "cell_type": "code",
   "execution_count": 38,
   "id": "cf322367-e9c2-4773-92eb-253a2a7841cd",
   "metadata": {},
   "outputs": [
    {
     "name": "stdout",
     "output_type": "stream",
     "text": [
      "Collecting openpyxl\n",
      "  Downloading openpyxl-3.1.5-py2.py3-none-any.whl.metadata (2.5 kB)\n",
      "Collecting et-xmlfile (from openpyxl)\n",
      "  Downloading et_xmlfile-2.0.0-py3-none-any.whl.metadata (2.7 kB)\n",
      "Downloading openpyxl-3.1.5-py2.py3-none-any.whl (250 kB)\n",
      "Downloading et_xmlfile-2.0.0-py3-none-any.whl (18 kB)\n",
      "Installing collected packages: et-xmlfile, openpyxl\n",
      "\n",
      "   -------------------- ------------------- 1/2 [openpyxl]\n",
      "   -------------------- ------------------- 1/2 [openpyxl]\n",
      "   -------------------- ------------------- 1/2 [openpyxl]\n",
      "   -------------------- ------------------- 1/2 [openpyxl]\n",
      "   -------------------- ------------------- 1/2 [openpyxl]\n",
      "   -------------------- ------------------- 1/2 [openpyxl]\n",
      "   -------------------- ------------------- 1/2 [openpyxl]\n",
      "   -------------------- ------------------- 1/2 [openpyxl]\n",
      "   -------------------- ------------------- 1/2 [openpyxl]\n",
      "   -------------------- ------------------- 1/2 [openpyxl]\n",
      "   -------------------- ------------------- 1/2 [openpyxl]\n",
      "   -------------------- ------------------- 1/2 [openpyxl]\n",
      "   -------------------- ------------------- 1/2 [openpyxl]\n",
      "   -------------------- ------------------- 1/2 [openpyxl]\n",
      "   -------------------- ------------------- 1/2 [openpyxl]\n",
      "   -------------------- ------------------- 1/2 [openpyxl]\n",
      "   -------------------- ------------------- 1/2 [openpyxl]\n",
      "   -------------------- ------------------- 1/2 [openpyxl]\n",
      "   -------------------- ------------------- 1/2 [openpyxl]\n",
      "   -------------------- ------------------- 1/2 [openpyxl]\n",
      "   -------------------- ------------------- 1/2 [openpyxl]\n",
      "   -------------------- ------------------- 1/2 [openpyxl]\n",
      "   -------------------- ------------------- 1/2 [openpyxl]\n",
      "   -------------------- ------------------- 1/2 [openpyxl]\n",
      "   -------------------- ------------------- 1/2 [openpyxl]\n",
      "   -------------------- ------------------- 1/2 [openpyxl]\n",
      "   -------------------- ------------------- 1/2 [openpyxl]\n",
      "   -------------------- ------------------- 1/2 [openpyxl]\n",
      "   -------------------- ------------------- 1/2 [openpyxl]\n",
      "   -------------------- ------------------- 1/2 [openpyxl]\n",
      "   -------------------- ------------------- 1/2 [openpyxl]\n",
      "   -------------------- ------------------- 1/2 [openpyxl]\n",
      "   -------------------- ------------------- 1/2 [openpyxl]\n",
      "   -------------------- ------------------- 1/2 [openpyxl]\n",
      "   -------------------- ------------------- 1/2 [openpyxl]\n",
      "   -------------------- ------------------- 1/2 [openpyxl]\n",
      "   -------------------- ------------------- 1/2 [openpyxl]\n",
      "   -------------------- ------------------- 1/2 [openpyxl]\n",
      "   ---------------------------------------- 2/2 [openpyxl]\n",
      "\n",
      "Successfully installed et-xmlfile-2.0.0 openpyxl-3.1.5\n"
     ]
    }
   ],
   "source": [
    "!pip install openpyxl # install openpyxl to convert df to xmsl file"
   ]
  },
  {
   "cell_type": "markdown",
   "id": "c91f437c-5c32-4958-b422-95c414c9fc04",
   "metadata": {},
   "source": [
    "## Getting URL :"
   ]
  },
  {
   "cell_type": "code",
   "execution_count": 4,
   "id": "1f84a14d-ec35-4501-8167-6ffd0b71f1cd",
   "metadata": {},
   "outputs": [
    {
     "name": "stdout",
     "output_type": "stream",
     "text": [
      "<Response [200]>\n"
     ]
    }
   ],
   "source": [
    "#Getting the url of page we want to work with\n",
    "url = \"https://www.olx.com.pk/items/q-playstation-5\"\n",
    "r = requests.get(url)\n",
    "print(r)\n",
    "\n",
    "# response 200 means its working"
   ]
  },
  {
   "cell_type": "markdown",
   "id": "c4d70e5c-639d-4312-9214-3f5fa129d809",
   "metadata": {},
   "source": [
    "## Scraping data from the **WEB** :"
   ]
  },
  {
   "cell_type": "markdown",
   "id": "1e5973bd-320e-4765-b52a-07cad5c64b2c",
   "metadata": {},
   "source": [
    "### Scraping **price**"
   ]
  },
  {
   "cell_type": "code",
   "execution_count": 27,
   "id": "8dcac9d3-131c-4d84-b20e-fc0dc21efe1d",
   "metadata": {},
   "outputs": [
    {
     "name": "stdout",
     "output_type": "stream",
     "text": [
      "['Rs 2.25 Lac', 'Rs 36,999', 'Rs 42,000', 'Rs 1,500', 'Rs 1.30 Lac', 'Rs 25,999', 'Rs 1,800', 'Rs 2.45 Lac', 'Rs 1.85 Lac', 'Rs 1.75 Lac', 'Rs 1.75 Lac', 'Rs 7,500', 'Rs 12,345', 'Rs 1.54 Lac', 'Rs 2.60 Lac', 'Rs 1.80 Lac', 'Rs 1.62 Lac', 'Rs 1.90 Lac', 'Rs 1.90 Lac', 'Rs 1.75 Lac', 'Rs 1.57 Lac', 'Rs 1.59 Lac', 'Rs 2.50 Lac']\n"
     ]
    }
   ],
   "source": [
    "\n",
    "prices = soup.find_all(\"span\" ,class_=\"f83175ac\")\n",
    "prices_list = []\n",
    "for i in prices:\n",
    "    prices_list.append(i.text)\n",
    "print(prices_list)"
   ]
  },
  {
   "cell_type": "markdown",
   "id": "12e0f05b-f206-4e9e-adf2-763836c71436",
   "metadata": {},
   "source": [
    "### Manually adding the Name and Category "
   ]
  },
  {
   "cell_type": "code",
   "execution_count": 31,
   "id": "a129bd5f-31f5-4497-9213-fc6fac1b2991",
   "metadata": {},
   "outputs": [
    {
     "name": "stdout",
     "output_type": "stream",
     "text": [
      "['Playstation 5', 'Playstation 5', 'Playstation 5', 'Playstation 5', 'Playstation 5', 'Playstation 5', 'Playstation 5', 'Playstation 5', 'Playstation 5', 'Playstation 5', 'Playstation 5', 'Playstation 5', 'Playstation 5', 'Playstation 5', 'Playstation 5', 'Playstation 5', 'Playstation 5', 'Playstation 5', 'Playstation 5', 'Playstation 5', 'Playstation 5', 'Playstation 5', 'Playstation 5']\n",
      "['Controller Gaming', 'Controller Gaming', 'Controller Gaming', 'Controller Gaming', 'Controller Gaming', 'Controller Gaming', 'Controller Gaming', 'Controller Gaming', 'Controller Gaming', 'Controller Gaming', 'Controller Gaming', 'Controller Gaming', 'Controller Gaming', 'Controller Gaming', 'Controller Gaming', 'Controller Gaming', 'Controller Gaming', 'Controller Gaming', 'Controller Gaming', 'Controller Gaming', 'Controller Gaming', 'Controller Gaming', 'Controller Gaming']\n"
     ]
    }
   ],
   "source": [
    "name = \"Playstation 5\"\n",
    "category = \"Controller Gaming\"\n",
    "name_list = []\n",
    "category_list = []\n",
    "for i in range(1,24):\n",
    "    name_list.append(name)\n",
    "    category_list.append(category)\n",
    "print(name_list)\n",
    "print(category_list)\n",
    "    \n",
    "    "
   ]
  },
  {
   "cell_type": "markdown",
   "id": "0231b2fa-9d4a-4207-b142-1627ea33016f",
   "metadata": {},
   "source": [
    "### Scraping **Product Details**"
   ]
  },
  {
   "cell_type": "code",
   "execution_count": 13,
   "id": "3dfae972-cf21-4338-8253-685173aec6d7",
   "metadata": {},
   "outputs": [
    {
     "name": "stdout",
     "output_type": "stream",
     "text": [
      "['PLAYSTATION 5 -MARVEL,s SPIDER MAN 2 limited edition', 'PLAYSTATION R PS5/PS4/PS3 XBOX ONE S , X / XBOX SERIES S, X', 'PS4 Playstation 4 Fat Slim Pro PS5 XBOX One S X Accessories Sale Shop', 'Ps5/Ps4/Xbox 360/Xbox one / Xbox series /Nintendo repair services', 'PS5 STANDARD DISC EDITION IN STOCK', 'PS5/PS4/PS3/XBOX 360/ REP & SER XBOX ONE ONES/XBOX SERIESPLAYSTATION', 'Ps5 Games | PlayStation & Xbox | Ps games | Ps4 Games | Ps5 Disk | Ps5', 'BRAND NEW SONY PS5 PRO 2TB AVAILABLE NOW AT MY GAMES', 'ps5,ps4,ps3,xbox series x,s PLAYSTATION PS5/PS4/PS3 XBOX ONE S , X / X', 'sealed playstation 5 slim disc edition', 'Sealed Playstation 5 slim disc edition PS 5 Brand new. official sony', 'brand new playstation 5 game', 'Playstation 5 games available', 'PlayStation 5 Slim Disc Edition', 'Playstation 5 jailbreak 4.50', 'PS5 BRAND NEW PLAYSTATION 5 NINTENDO SWITCH STEAM DECK ROG ALLY X', 'ps5 playstation 5 disc 1tb complete box', 'Sony PlayStation 5 Slim Disc Edition 1TB ( UK Edition)', 'PlayStation 5 Slim – 1TB (TDRA Version)', 'Playstation5 disc edition', 'Ps5 Slim 1TB Disc Edition UK PlayStation 5', 'PlayStation 5 Slim - Disc Edition', 'PlayStation 5 Pro']\n"
     ]
    }
   ],
   "source": [
    "productDetail = soup.find_all(\"h2\", class_=\"_1093b649\")\n",
    "\n",
    "productDetail_list = []\n",
    "for i in productDetail:\n",
    "    productDetail_list.append(i.text)\n",
    "\n",
    "print(productDetail_list)"
   ]
  },
  {
   "cell_type": "markdown",
   "id": "1be11dc1-5846-4ad8-861d-c36aad1b7013",
   "metadata": {},
   "source": [
    "### Scraping **Locations of the sellers**"
   ]
  },
  {
   "cell_type": "code",
   "execution_count": 16,
   "id": "e1d2ae37-c8db-4c23-8b41-46afb9cd6967",
   "metadata": {},
   "outputs": [
    {
     "name": "stdout",
     "output_type": "stream",
     "text": [
      "['Johar Town, Lahore', 'Gulistan-e-Jauhar, Karachi', 'DHA Phase 5, Karachi', 'Gulshan-e-Iqbal, Karachi', 'Gulshan-e-Iqbal, Karachi', 'DHA Phase 5, Karachi', 'DHA Defence Phase 1, Islamabad', 'Bahria Town Phase 7, Rawalpindi', 'Main Boulevard Gulberg, Lahore', 'Riwaz Garden, Lahore', 'DHA Phase 4, Lahore', 'Cantt, Kharian', 'Gulshan-e-Iqbal, Karachi', 'DHA Phase 3, Lahore', 'Gulshan-e-Iqbal Town, Karachi', 'Gulshan-e-Iqbal, Karachi', 'Sher Ali Town, Peshawar', 'Khayaban-e-Iqbal, Karachi', 'Al Falah Society, Karachi', 'Others, Multan', 'DHA Phase 4, Lahore', 'O-9, Islamabad', 'Shah Rukn-e-Alam Colony, Multan']\n"
     ]
    }
   ],
   "source": [
    "locations_of_sellers = soup.find_all(\"span\", class_=\"f047db22\")\n",
    "\n",
    "Locations_list = []\n",
    "\n",
    "for i in locations_of_sellers:\n",
    "    Locations_list.append((i.text).rstrip(\"•\"))\n",
    "print(Locations_list)"
   ]
  },
  {
   "cell_type": "markdown",
   "id": "c83f2037-f544-4078-8653-123cc856aca0",
   "metadata": {},
   "source": [
    "### Scraping **Time**"
   ]
  },
  {
   "cell_type": "code",
   "execution_count": 21,
   "id": "98c05e86-4d0a-4c2d-836f-ee74b8bd2545",
   "metadata": {},
   "outputs": [
    {
     "name": "stdout",
     "output_type": "stream",
     "text": [
      "['6 days ago', '4 days ago', '3 weeks ago', '1 week ago', '2 weeks ago', '2 weeks ago', '4 weeks ago', '2 weeks ago', '1 week ago', '2 hours ago', '3 hours ago', '4 hours ago', '7 hours ago', '8 hours ago', '9 hours ago', '12 hours ago', '14 hours ago', '23 hours ago', '1 day ago', '1 day ago', '1 day ago', '1 day ago', '1 day ago']\n"
     ]
    }
   ],
   "source": [
    "posted_time = soup.find_all(\"span\", class_=\"aa13b760\")\n",
    "\n",
    "time_list = []\n",
    "\n",
    "for i in  posted_time:\n",
    "    time_list.append(i.text)\n",
    "print(time_list)"
   ]
  },
  {
   "cell_type": "markdown",
   "id": "1fa6aba2-931b-487e-984f-8d2405be4946",
   "metadata": {},
   "source": [
    "### Converting the lists to **data Frames** and than to **XLSX file**"
   ]
  },
  {
   "cell_type": "code",
   "execution_count": 43,
   "id": "4ec28819-05fb-4961-b290-4e717333672a",
   "metadata": {},
   "outputs": [
    {
     "name": "stdout",
     "output_type": "stream",
     "text": [
      "File successfully Converted to Excel file!\n"
     ]
    }
   ],
   "source": [
    "df = pd.DataFrame({\"product_name\" : name_list,\"category\":category_list ,\"Price\": prices_list,\"Product_Detail_by_Seller\":productDetail_list ,\"Seller_Location\" :Locations_list, \"Ad_Post_Time_Ago\" : time_list })\n",
    "df.to_excel(\"OLX listing Ps5 detail.xlsx\",index = False)\n",
    "print(\"File successfully Converted to Excel file!\")"
   ]
  },
  {
   "cell_type": "code",
   "execution_count": null,
   "id": "20f40f19-aa15-4436-9a9f-27d46530a9ee",
   "metadata": {},
   "outputs": [],
   "source": []
  },
  {
   "cell_type": "code",
   "execution_count": null,
   "id": "21ea45b3-a2f4-42b5-af41-39f397d16386",
   "metadata": {},
   "outputs": [],
   "source": []
  }
 ],
 "metadata": {
  "kernelspec": {
   "display_name": "Python 3 (ipykernel)",
   "language": "python",
   "name": "python3"
  },
  "language_info": {
   "codemirror_mode": {
    "name": "ipython",
    "version": 3
   },
   "file_extension": ".py",
   "mimetype": "text/x-python",
   "name": "python",
   "nbconvert_exporter": "python",
   "pygments_lexer": "ipython3",
   "version": "3.13.5"
  }
 },
 "nbformat": 4,
 "nbformat_minor": 5
}
